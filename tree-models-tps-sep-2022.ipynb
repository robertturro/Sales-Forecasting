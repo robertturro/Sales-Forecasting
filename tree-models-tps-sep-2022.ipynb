{
 "cells": [
  {
   "cell_type": "code",
   "execution_count": 1,
   "id": "fd02025c",
   "metadata": {
    "_cell_guid": "b1076dfc-b9ad-4769-8c92-a6c4dae69d19",
    "_uuid": "8f2839f25d086af736a60e9eeb907d3b93b6e0e5",
    "execution": {
     "iopub.execute_input": "2022-09-24T03:45:31.861435Z",
     "iopub.status.busy": "2022-09-24T03:45:31.860772Z",
     "iopub.status.idle": "2022-09-24T03:45:34.556895Z",
     "shell.execute_reply": "2022-09-24T03:45:34.556050Z"
    },
    "papermill": {
     "duration": 2.707776,
     "end_time": "2022-09-24T03:45:34.559923",
     "exception": false,
     "start_time": "2022-09-24T03:45:31.852147",
     "status": "completed"
    },
    "tags": []
   },
   "outputs": [
    {
     "data": {
      "text/html": [
       "<style type='text/css'>\n",
       ".datatable table.frame { margin-bottom: 0; }\n",
       ".datatable table.frame thead { border-bottom: none; }\n",
       ".datatable table.frame tr.coltypes td {  color: #FFFFFF;  line-height: 6px;  padding: 0 0.5em;}\n",
       ".datatable .bool    { background: #DDDD99; }\n",
       ".datatable .object  { background: #565656; }\n",
       ".datatable .int     { background: #5D9E5D; }\n",
       ".datatable .float   { background: #4040CC; }\n",
       ".datatable .str     { background: #CC4040; }\n",
       ".datatable .time    { background: #40CC40; }\n",
       ".datatable .row_index {  background: var(--jp-border-color3);  border-right: 1px solid var(--jp-border-color0);  color: var(--jp-ui-font-color3);  font-size: 9px;}\n",
       ".datatable .frame tbody td { text-align: left; }\n",
       ".datatable .frame tr.coltypes .row_index {  background: var(--jp-border-color0);}\n",
       ".datatable th:nth-child(2) { padding-left: 12px; }\n",
       ".datatable .hellipsis {  color: var(--jp-cell-editor-border-color);}\n",
       ".datatable .vellipsis {  background: var(--jp-layout-color0);  color: var(--jp-cell-editor-border-color);}\n",
       ".datatable .na {  color: var(--jp-cell-editor-border-color);  font-size: 80%;}\n",
       ".datatable .sp {  opacity: 0.25;}\n",
       ".datatable .footer { font-size: 9px; }\n",
       ".datatable .frame_dimensions {  background: var(--jp-border-color3);  border-top: 1px solid var(--jp-border-color0);  color: var(--jp-ui-font-color3);  display: inline-block;  opacity: 0.6;  padding: 1px 10px 1px 5px;}\n",
       "</style>\n"
      ],
      "text/plain": [
       "<IPython.core.display.HTML object>"
      ]
     },
     "metadata": {},
     "output_type": "display_data"
    }
   ],
   "source": [
    "import pandas as pd \n",
    "import numpy as np\n",
    "import datetime\n",
    "import holidays\n",
    "from sklearn.model_selection import GridSearchCV\n",
    "from sklearn.model_selection import RandomizedSearchCV\n",
    "from sklearn.preprocessing import StandardScaler\n",
    "from sklearn.preprocessing import OrdinalEncoder\n",
    "\n",
    "from sklearn.ensemble import RandomForestRegressor\n",
    "from catboost import CatBoostRegressor\n",
    "from sklearn.ensemble import AdaBoostRegressor\n",
    "import lightgbm as lgb\n",
    "from xgboost import XGBRegressor"
   ]
  },
  {
   "cell_type": "code",
   "execution_count": 2,
   "id": "731400f3",
   "metadata": {
    "execution": {
     "iopub.execute_input": "2022-09-24T03:45:34.575807Z",
     "iopub.status.busy": "2022-09-24T03:45:34.574882Z",
     "iopub.status.idle": "2022-09-24T03:45:34.750007Z",
     "shell.execute_reply": "2022-09-24T03:45:34.749153Z"
    },
    "papermill": {
     "duration": 0.185229,
     "end_time": "2022-09-24T03:45:34.752502",
     "exception": false,
     "start_time": "2022-09-24T03:45:34.567273",
     "status": "completed"
    },
    "tags": []
   },
   "outputs": [],
   "source": [
    "train = pd.read_csv(\"../input/tabular-playground-series-sep-2022/train.csv\")\n",
    "test = pd.read_csv(\"../input/tabular-playground-series-sep-2022/test.csv\")\n",
    "sample_sub = pd.read_csv(\"../input/tabular-playground-series-sep-2022/sample_submission.csv\")"
   ]
  },
  {
   "cell_type": "markdown",
   "id": "cef1ae76",
   "metadata": {
    "papermill": {
     "duration": 0.00515,
     "end_time": "2022-09-24T03:45:34.763323",
     "exception": false,
     "start_time": "2022-09-24T03:45:34.758173",
     "status": "completed"
    },
    "tags": []
   },
   "source": [
    "See EDA in my other [notebook](https://www.kaggle.com/code/robertturro/plotly-visuals-tps-sep-2022)"
   ]
  },
  {
   "cell_type": "code",
   "execution_count": 3,
   "id": "84cb147c",
   "metadata": {
    "execution": {
     "iopub.execute_input": "2022-09-24T03:45:34.776757Z",
     "iopub.status.busy": "2022-09-24T03:45:34.776125Z",
     "iopub.status.idle": "2022-09-24T03:45:34.815607Z",
     "shell.execute_reply": "2022-09-24T03:45:34.814154Z"
    },
    "papermill": {
     "duration": 0.049627,
     "end_time": "2022-09-24T03:45:34.818398",
     "exception": false,
     "start_time": "2022-09-24T03:45:34.768771",
     "status": "completed"
    },
    "tags": []
   },
   "outputs": [
    {
     "name": "stdout",
     "output_type": "stream",
     "text": [
      "<class 'pandas.core.frame.DataFrame'>\n",
      "RangeIndex: 70128 entries, 0 to 70127\n",
      "Data columns (total 6 columns):\n",
      " #   Column    Non-Null Count  Dtype \n",
      "---  ------    --------------  ----- \n",
      " 0   row_id    70128 non-null  int64 \n",
      " 1   date      70128 non-null  object\n",
      " 2   country   70128 non-null  object\n",
      " 3   store     70128 non-null  object\n",
      " 4   product   70128 non-null  object\n",
      " 5   num_sold  70128 non-null  int64 \n",
      "dtypes: int64(2), object(4)\n",
      "memory usage: 3.2+ MB\n"
     ]
    }
   ],
   "source": [
    "train.info()"
   ]
  },
  {
   "cell_type": "code",
   "execution_count": 4,
   "id": "c99cf588",
   "metadata": {
    "execution": {
     "iopub.execute_input": "2022-09-24T03:45:34.831782Z",
     "iopub.status.busy": "2022-09-24T03:45:34.831177Z",
     "iopub.status.idle": "2022-09-24T03:45:34.845949Z",
     "shell.execute_reply": "2022-09-24T03:45:34.844775Z"
    },
    "papermill": {
     "duration": 0.024621,
     "end_time": "2022-09-24T03:45:34.848675",
     "exception": false,
     "start_time": "2022-09-24T03:45:34.824054",
     "status": "completed"
    },
    "tags": []
   },
   "outputs": [
    {
     "name": "stdout",
     "output_type": "stream",
     "text": [
      "<class 'pandas.core.frame.DataFrame'>\n",
      "RangeIndex: 17520 entries, 0 to 17519\n",
      "Data columns (total 5 columns):\n",
      " #   Column   Non-Null Count  Dtype \n",
      "---  ------   --------------  ----- \n",
      " 0   row_id   17520 non-null  int64 \n",
      " 1   date     17520 non-null  object\n",
      " 2   country  17520 non-null  object\n",
      " 3   store    17520 non-null  object\n",
      " 4   product  17520 non-null  object\n",
      "dtypes: int64(1), object(4)\n",
      "memory usage: 684.5+ KB\n"
     ]
    }
   ],
   "source": [
    "test.info()"
   ]
  },
  {
   "cell_type": "code",
   "execution_count": 5,
   "id": "6ec179fa",
   "metadata": {
    "execution": {
     "iopub.execute_input": "2022-09-24T03:45:34.861859Z",
     "iopub.status.busy": "2022-09-24T03:45:34.861412Z",
     "iopub.status.idle": "2022-09-24T03:45:34.875232Z",
     "shell.execute_reply": "2022-09-24T03:45:34.874144Z"
    },
    "papermill": {
     "duration": 0.023514,
     "end_time": "2022-09-24T03:45:34.877973",
     "exception": false,
     "start_time": "2022-09-24T03:45:34.854459",
     "status": "completed"
    },
    "tags": []
   },
   "outputs": [],
   "source": [
    "def transform_data(Data):\n",
    "    data = Data.copy()\n",
    "    data['parsedDate'] = pd.to_datetime(data['date'],format=\"%Y-%m-%d\")\n",
    "    data['Day'] = data['parsedDate'].dt.day\n",
    "    data['Month'] = data['parsedDate'].dt.month\n",
    "    data['Year'] = data['parsedDate'].dt.year\n",
    "    data['Weekday'] = data['parsedDate'].dt.weekday\n",
    "    data['DayOfYear'] = data['parsedDate'].dt.dayofyear\n",
    "    data[\"month_sin\"] = np.sin(data['Month']*(2*np.pi/12))\n",
    "    data[\"month_cos\"] = np.cos(data['Month']*(2*np.pi/12))\n",
    "    \n",
    "    for d in range(0,7):\n",
    "        data['day_'+str(d)] = 0\n",
    "        data.loc[data['Weekday']==d,'day_'+str(d)] =1\n",
    "    \n",
    "    data[\"holiday\"] = data[\"DayOfYear\"].apply(lambda x: x if x in [1,2,3,4,5,6,7,8,125,126,360,361,362,363,364,365] else 0)\n",
    "    data = pd.get_dummies(data,columns=['holiday'],drop_first=True)\n",
    "    \n",
    "    # Remove abnormal data during COVID, as suggested by Cabaxiom\n",
    "    data = data.loc[~((data[\"date\"] >= \"2020-03-01\") & (data[\"date\"] < \"2020-06-01\"))]\n",
    "    \n",
    "    data = data.drop(columns=[\"parsedDate\",'Month'])\n",
    "    data = data.set_index(\"date\")\n",
    "    data.index = pd.to_datetime(data.index)\n",
    "    \n",
    "    encoder = OrdinalEncoder()\n",
    "    for col in data.columns:\n",
    "        if data[col].dtype == \"object\" and col != \"type\" and col != \"date\":\n",
    "            data[col] = encoder.fit_transform(data[[col]])\n",
    "    \n",
    "    data = data.drop(columns=[\"row_id\"])\n",
    "    \n",
    "\n",
    "    return data"
   ]
  },
  {
   "cell_type": "code",
   "execution_count": 6,
   "id": "bc134b90",
   "metadata": {
    "execution": {
     "iopub.execute_input": "2022-09-24T03:45:34.891129Z",
     "iopub.status.busy": "2022-09-24T03:45:34.890674Z",
     "iopub.status.idle": "2022-09-24T03:45:35.255238Z",
     "shell.execute_reply": "2022-09-24T03:45:35.253906Z"
    },
    "papermill": {
     "duration": 0.374339,
     "end_time": "2022-09-24T03:45:35.258009",
     "exception": false,
     "start_time": "2022-09-24T03:45:34.883670",
     "status": "completed"
    },
    "tags": []
   },
   "outputs": [],
   "source": [
    "train_data = transform_data(train)\n",
    "test_data = transform_data(test)"
   ]
  },
  {
   "cell_type": "code",
   "execution_count": 7,
   "id": "04b144c1",
   "metadata": {
    "execution": {
     "iopub.execute_input": "2022-09-24T03:45:35.271205Z",
     "iopub.status.busy": "2022-09-24T03:45:35.270717Z",
     "iopub.status.idle": "2022-09-24T03:45:35.298893Z",
     "shell.execute_reply": "2022-09-24T03:45:35.297772Z"
    },
    "papermill": {
     "duration": 0.03838,
     "end_time": "2022-09-24T03:45:35.302078",
     "exception": false,
     "start_time": "2022-09-24T03:45:35.263698",
     "status": "completed"
    },
    "tags": []
   },
   "outputs": [
    {
     "data": {
      "text/html": [
       "<div>\n",
       "<style scoped>\n",
       "    .dataframe tbody tr th:only-of-type {\n",
       "        vertical-align: middle;\n",
       "    }\n",
       "\n",
       "    .dataframe tbody tr th {\n",
       "        vertical-align: top;\n",
       "    }\n",
       "\n",
       "    .dataframe thead th {\n",
       "        text-align: right;\n",
       "    }\n",
       "</style>\n",
       "<table border=\"1\" class=\"dataframe\">\n",
       "  <thead>\n",
       "    <tr style=\"text-align: right;\">\n",
       "      <th></th>\n",
       "      <th>country</th>\n",
       "      <th>store</th>\n",
       "      <th>product</th>\n",
       "      <th>num_sold</th>\n",
       "      <th>Day</th>\n",
       "      <th>Year</th>\n",
       "      <th>Weekday</th>\n",
       "      <th>DayOfYear</th>\n",
       "      <th>month_sin</th>\n",
       "      <th>month_cos</th>\n",
       "      <th>...</th>\n",
       "      <th>holiday_7</th>\n",
       "      <th>holiday_8</th>\n",
       "      <th>holiday_125</th>\n",
       "      <th>holiday_126</th>\n",
       "      <th>holiday_360</th>\n",
       "      <th>holiday_361</th>\n",
       "      <th>holiday_362</th>\n",
       "      <th>holiday_363</th>\n",
       "      <th>holiday_364</th>\n",
       "      <th>holiday_365</th>\n",
       "    </tr>\n",
       "    <tr>\n",
       "      <th>date</th>\n",
       "      <th></th>\n",
       "      <th></th>\n",
       "      <th></th>\n",
       "      <th></th>\n",
       "      <th></th>\n",
       "      <th></th>\n",
       "      <th></th>\n",
       "      <th></th>\n",
       "      <th></th>\n",
       "      <th></th>\n",
       "      <th></th>\n",
       "      <th></th>\n",
       "      <th></th>\n",
       "      <th></th>\n",
       "      <th></th>\n",
       "      <th></th>\n",
       "      <th></th>\n",
       "      <th></th>\n",
       "      <th></th>\n",
       "      <th></th>\n",
       "      <th></th>\n",
       "    </tr>\n",
       "  </thead>\n",
       "  <tbody>\n",
       "    <tr>\n",
       "      <th>2017-01-01</th>\n",
       "      <td>0.0</td>\n",
       "      <td>0.0</td>\n",
       "      <td>0.0</td>\n",
       "      <td>663</td>\n",
       "      <td>1</td>\n",
       "      <td>2017</td>\n",
       "      <td>6</td>\n",
       "      <td>1</td>\n",
       "      <td>0.5</td>\n",
       "      <td>0.866025</td>\n",
       "      <td>...</td>\n",
       "      <td>0</td>\n",
       "      <td>0</td>\n",
       "      <td>0</td>\n",
       "      <td>0</td>\n",
       "      <td>0</td>\n",
       "      <td>0</td>\n",
       "      <td>0</td>\n",
       "      <td>0</td>\n",
       "      <td>0</td>\n",
       "      <td>0</td>\n",
       "    </tr>\n",
       "    <tr>\n",
       "      <th>2017-01-01</th>\n",
       "      <td>0.0</td>\n",
       "      <td>0.0</td>\n",
       "      <td>1.0</td>\n",
       "      <td>615</td>\n",
       "      <td>1</td>\n",
       "      <td>2017</td>\n",
       "      <td>6</td>\n",
       "      <td>1</td>\n",
       "      <td>0.5</td>\n",
       "      <td>0.866025</td>\n",
       "      <td>...</td>\n",
       "      <td>0</td>\n",
       "      <td>0</td>\n",
       "      <td>0</td>\n",
       "      <td>0</td>\n",
       "      <td>0</td>\n",
       "      <td>0</td>\n",
       "      <td>0</td>\n",
       "      <td>0</td>\n",
       "      <td>0</td>\n",
       "      <td>0</td>\n",
       "    </tr>\n",
       "    <tr>\n",
       "      <th>2017-01-01</th>\n",
       "      <td>0.0</td>\n",
       "      <td>0.0</td>\n",
       "      <td>2.0</td>\n",
       "      <td>480</td>\n",
       "      <td>1</td>\n",
       "      <td>2017</td>\n",
       "      <td>6</td>\n",
       "      <td>1</td>\n",
       "      <td>0.5</td>\n",
       "      <td>0.866025</td>\n",
       "      <td>...</td>\n",
       "      <td>0</td>\n",
       "      <td>0</td>\n",
       "      <td>0</td>\n",
       "      <td>0</td>\n",
       "      <td>0</td>\n",
       "      <td>0</td>\n",
       "      <td>0</td>\n",
       "      <td>0</td>\n",
       "      <td>0</td>\n",
       "      <td>0</td>\n",
       "    </tr>\n",
       "    <tr>\n",
       "      <th>2017-01-01</th>\n",
       "      <td>0.0</td>\n",
       "      <td>0.0</td>\n",
       "      <td>3.0</td>\n",
       "      <td>710</td>\n",
       "      <td>1</td>\n",
       "      <td>2017</td>\n",
       "      <td>6</td>\n",
       "      <td>1</td>\n",
       "      <td>0.5</td>\n",
       "      <td>0.866025</td>\n",
       "      <td>...</td>\n",
       "      <td>0</td>\n",
       "      <td>0</td>\n",
       "      <td>0</td>\n",
       "      <td>0</td>\n",
       "      <td>0</td>\n",
       "      <td>0</td>\n",
       "      <td>0</td>\n",
       "      <td>0</td>\n",
       "      <td>0</td>\n",
       "      <td>0</td>\n",
       "    </tr>\n",
       "    <tr>\n",
       "      <th>2017-01-01</th>\n",
       "      <td>0.0</td>\n",
       "      <td>1.0</td>\n",
       "      <td>0.0</td>\n",
       "      <td>240</td>\n",
       "      <td>1</td>\n",
       "      <td>2017</td>\n",
       "      <td>6</td>\n",
       "      <td>1</td>\n",
       "      <td>0.5</td>\n",
       "      <td>0.866025</td>\n",
       "      <td>...</td>\n",
       "      <td>0</td>\n",
       "      <td>0</td>\n",
       "      <td>0</td>\n",
       "      <td>0</td>\n",
       "      <td>0</td>\n",
       "      <td>0</td>\n",
       "      <td>0</td>\n",
       "      <td>0</td>\n",
       "      <td>0</td>\n",
       "      <td>0</td>\n",
       "    </tr>\n",
       "  </tbody>\n",
       "</table>\n",
       "<p>5 rows × 33 columns</p>\n",
       "</div>"
      ],
      "text/plain": [
       "            country  store  product  num_sold  Day  Year  Weekday  DayOfYear  \\\n",
       "date                                                                           \n",
       "2017-01-01      0.0    0.0      0.0       663    1  2017        6          1   \n",
       "2017-01-01      0.0    0.0      1.0       615    1  2017        6          1   \n",
       "2017-01-01      0.0    0.0      2.0       480    1  2017        6          1   \n",
       "2017-01-01      0.0    0.0      3.0       710    1  2017        6          1   \n",
       "2017-01-01      0.0    1.0      0.0       240    1  2017        6          1   \n",
       "\n",
       "            month_sin  month_cos  ...  holiday_7  holiday_8  holiday_125  \\\n",
       "date                              ...                                      \n",
       "2017-01-01        0.5   0.866025  ...          0          0            0   \n",
       "2017-01-01        0.5   0.866025  ...          0          0            0   \n",
       "2017-01-01        0.5   0.866025  ...          0          0            0   \n",
       "2017-01-01        0.5   0.866025  ...          0          0            0   \n",
       "2017-01-01        0.5   0.866025  ...          0          0            0   \n",
       "\n",
       "            holiday_126  holiday_360  holiday_361  holiday_362  holiday_363  \\\n",
       "date                                                                          \n",
       "2017-01-01            0            0            0            0            0   \n",
       "2017-01-01            0            0            0            0            0   \n",
       "2017-01-01            0            0            0            0            0   \n",
       "2017-01-01            0            0            0            0            0   \n",
       "2017-01-01            0            0            0            0            0   \n",
       "\n",
       "            holiday_364  holiday_365  \n",
       "date                                  \n",
       "2017-01-01            0            0  \n",
       "2017-01-01            0            0  \n",
       "2017-01-01            0            0  \n",
       "2017-01-01            0            0  \n",
       "2017-01-01            0            0  \n",
       "\n",
       "[5 rows x 33 columns]"
      ]
     },
     "execution_count": 7,
     "metadata": {},
     "output_type": "execute_result"
    }
   ],
   "source": [
    "train_data.head()"
   ]
  },
  {
   "cell_type": "code",
   "execution_count": 8,
   "id": "d23c2e3f",
   "metadata": {
    "execution": {
     "iopub.execute_input": "2022-09-24T03:45:35.315697Z",
     "iopub.status.busy": "2022-09-24T03:45:35.315293Z",
     "iopub.status.idle": "2022-09-24T03:45:35.324250Z",
     "shell.execute_reply": "2022-09-24T03:45:35.323150Z"
    },
    "papermill": {
     "duration": 0.018559,
     "end_time": "2022-09-24T03:45:35.326741",
     "exception": false,
     "start_time": "2022-09-24T03:45:35.308182",
     "status": "completed"
    },
    "tags": []
   },
   "outputs": [],
   "source": [
    "y_train = train_data['num_sold']\n",
    "train_data = train_data.drop(['num_sold'],axis=1)"
   ]
  },
  {
   "cell_type": "code",
   "execution_count": 9,
   "id": "ed233295",
   "metadata": {
    "execution": {
     "iopub.execute_input": "2022-09-24T03:45:35.340498Z",
     "iopub.status.busy": "2022-09-24T03:45:35.340099Z",
     "iopub.status.idle": "2022-09-24T03:45:35.346348Z",
     "shell.execute_reply": "2022-09-24T03:45:35.345146Z"
    },
    "papermill": {
     "duration": 0.015898,
     "end_time": "2022-09-24T03:45:35.348658",
     "exception": false,
     "start_time": "2022-09-24T03:45:35.332760",
     "status": "completed"
    },
    "tags": []
   },
   "outputs": [],
   "source": [
    "def smape(y_true, y_pred):\n",
    "    denominator = (np.abs(y_true) + np.abs(y_pred)) / 200.0\n",
    "    diff = np.abs(y_true - y_pred) / denominator\n",
    "    diff[denominator == 0] = 0.0\n",
    "    return np.nanmean(diff)"
   ]
  },
  {
   "cell_type": "code",
   "execution_count": 10,
   "id": "fe59b087",
   "metadata": {
    "execution": {
     "iopub.execute_input": "2022-09-24T03:45:35.362007Z",
     "iopub.status.busy": "2022-09-24T03:45:35.361633Z",
     "iopub.status.idle": "2022-09-24T03:45:35.367514Z",
     "shell.execute_reply": "2022-09-24T03:45:35.366367Z"
    },
    "papermill": {
     "duration": 0.015234,
     "end_time": "2022-09-24T03:45:35.369790",
     "exception": false,
     "start_time": "2022-09-24T03:45:35.354556",
     "status": "completed"
    },
    "tags": []
   },
   "outputs": [],
   "source": [
    "def get_params(df):\n",
    "    mini = min(df['mean_test_score'])\n",
    "    for row in range(len(df)):\n",
    "        if df.iloc[row]['mean_test_score'] == mini:\n",
    "            return df.iloc[row]['params']"
   ]
  },
  {
   "cell_type": "code",
   "execution_count": 11,
   "id": "046610fa",
   "metadata": {
    "execution": {
     "iopub.execute_input": "2022-09-24T03:45:35.384856Z",
     "iopub.status.busy": "2022-09-24T03:45:35.383914Z",
     "iopub.status.idle": "2022-09-24T03:45:35.400305Z",
     "shell.execute_reply": "2022-09-24T03:45:35.399244Z"
    },
    "papermill": {
     "duration": 0.025798,
     "end_time": "2022-09-24T03:45:35.402567",
     "exception": false,
     "start_time": "2022-09-24T03:45:35.376769",
     "status": "completed"
    },
    "tags": []
   },
   "outputs": [],
   "source": [
    "def find_model(train,y_train):\n",
    "    scores = {}\n",
    "    output = []\n",
    "    \n",
    "    rf = RandomizedSearchCV(RandomForestRegressor(),{\n",
    "    'n_estimators' : [500,1000]\n",
    "    }, scoring = 'neg_mean_absolute_error',return_train_score=False)\n",
    "\n",
    "    rf.fit(train,y_train)\n",
    "\n",
    "    rf_df = pd.DataFrame(rf.cv_results_)\n",
    "    rf_score = max(rf_df['mean_test_score'])\n",
    "    scores['rf'] = rf_score\n",
    "    \n",
    "    ada = RandomizedSearchCV(AdaBoostRegressor(),{\n",
    "    'n_estimators' : [500,1000],\n",
    "    }, scoring = 'neg_mean_absolute_error',return_train_score=False)\n",
    "\n",
    "    ada.fit(train,y_train)\n",
    "    \n",
    "    new_df_ada = pd.DataFrame(ada.cv_results_)\n",
    "    ada_score = max(new_df_ada['mean_test_score'])\n",
    "    scores['ada'] = ada_score\n",
    "    \n",
    "    cat = RandomizedSearchCV(CatBoostRegressor(verbose=0),{\n",
    "    'n_estimators' : [500,1000]\n",
    "    \n",
    "    }, scoring = 'neg_mean_absolute_error',return_train_score=False)\n",
    "    \n",
    "    cat.fit(train,y_train,verbose=None)\n",
    "\n",
    "    new_df_cat = pd.DataFrame(cat.cv_results_)\n",
    "    cat_score = max(new_df_cat['mean_test_score'])\n",
    "    scores['cat'] = cat_score\n",
    "    \n",
    "    gb = RandomizedSearchCV(lgb.LGBMRegressor(objective='regression',metric='L2',boosting_type='gbdt'),{\n",
    "        'n_estimators' : [500,1000]\n",
    "    \n",
    "    },scoring = 'neg_mean_absolute_error',return_train_score=False)\n",
    "        \n",
    "    gb.fit(train,y_train)\n",
    "\n",
    "    gb_df = pd.DataFrame(gb.cv_results_)\n",
    "    gb_score = max(gb_df['mean_test_score'])\n",
    "    scores['gb'] = gb_score\n",
    "        \n",
    "    xgb = RandomizedSearchCV(XGBRegressor(),{\n",
    "    'n_estimators' : [500,1000]\n",
    "    \n",
    "    }, scoring = 'neg_mean_absolute_error',return_train_score=False)\n",
    "    \n",
    "    xgb.fit(train,y_train,verbose=None)\n",
    "\n",
    "    new_df_xgb = pd.DataFrame(xgb.cv_results_)\n",
    "    xgb_score = max(new_df_xgb['mean_test_score'])\n",
    "    scores['xgb'] = xgb_score\n",
    "        \n",
    "\n",
    "    max_val = list(scores.values())\n",
    "    max_ke = list(scores.keys())\n",
    "    best_model = max_ke[max_val.index(max(max_val))]\n",
    "    output.append(best_model)\n",
    "    \n",
    "    if best_model == 'cat':\n",
    "        output.append(get_params(new_df_cat))\n",
    "    if best_model == 'ada':\n",
    "        output.append(get_params(new_df_ada))\n",
    "    if best_model == 'rf':\n",
    "        output.append(get_params(rf_df))\n",
    "    if best_model == 'gb':\n",
    "        output.append(get_params(gb_df))\n",
    "    if best_model == 'xgb':\n",
    "        output.append(get_params(new_df_xgb))\n",
    "    \n",
    "    \n",
    "    return output"
   ]
  },
  {
   "cell_type": "code",
   "execution_count": 12,
   "id": "d1c2eb02",
   "metadata": {
    "execution": {
     "iopub.execute_input": "2022-09-24T03:45:35.416027Z",
     "iopub.status.busy": "2022-09-24T03:45:35.415619Z",
     "iopub.status.idle": "2022-09-24T04:26:36.456995Z",
     "shell.execute_reply": "2022-09-24T04:26:36.456033Z"
    },
    "papermill": {
     "duration": 2461.051688,
     "end_time": "2022-09-24T04:26:36.460211",
     "exception": false,
     "start_time": "2022-09-24T03:45:35.408523",
     "status": "completed"
    },
    "tags": []
   },
   "outputs": [
    {
     "name": "stderr",
     "output_type": "stream",
     "text": [
      "/opt/conda/lib/python3.7/site-packages/sklearn/model_selection/_search.py:296: UserWarning: The total space of parameters 2 is smaller than n_iter=10. Running 2 iterations. For exhaustive searches, use GridSearchCV.\n",
      "  UserWarning,\n",
      "/opt/conda/lib/python3.7/site-packages/sklearn/model_selection/_search.py:296: UserWarning: The total space of parameters 2 is smaller than n_iter=10. Running 2 iterations. For exhaustive searches, use GridSearchCV.\n",
      "  UserWarning,\n",
      "/opt/conda/lib/python3.7/site-packages/sklearn/model_selection/_search.py:296: UserWarning: The total space of parameters 2 is smaller than n_iter=10. Running 2 iterations. For exhaustive searches, use GridSearchCV.\n",
      "  UserWarning,\n",
      "/opt/conda/lib/python3.7/site-packages/sklearn/model_selection/_search.py:296: UserWarning: The total space of parameters 2 is smaller than n_iter=10. Running 2 iterations. For exhaustive searches, use GridSearchCV.\n",
      "  UserWarning,\n",
      "/opt/conda/lib/python3.7/site-packages/sklearn/model_selection/_search.py:296: UserWarning: The total space of parameters 2 is smaller than n_iter=10. Running 2 iterations. For exhaustive searches, use GridSearchCV.\n",
      "  UserWarning,\n"
     ]
    }
   ],
   "source": [
    "best_model = find_model(train_data,y_train)"
   ]
  },
  {
   "cell_type": "code",
   "execution_count": 13,
   "id": "78406af7",
   "metadata": {
    "execution": {
     "iopub.execute_input": "2022-09-24T04:26:36.474993Z",
     "iopub.status.busy": "2022-09-24T04:26:36.474571Z",
     "iopub.status.idle": "2022-09-24T04:26:36.479851Z",
     "shell.execute_reply": "2022-09-24T04:26:36.478993Z"
    },
    "papermill": {
     "duration": 0.015221,
     "end_time": "2022-09-24T04:26:36.482198",
     "exception": false,
     "start_time": "2022-09-24T04:26:36.466977",
     "status": "completed"
    },
    "tags": []
   },
   "outputs": [],
   "source": [
    "model_name = best_model[0]\n",
    "parameters = best_model[1]"
   ]
  },
  {
   "cell_type": "code",
   "execution_count": 14,
   "id": "96b40b16",
   "metadata": {
    "execution": {
     "iopub.execute_input": "2022-09-24T04:26:36.498176Z",
     "iopub.status.busy": "2022-09-24T04:26:36.497276Z",
     "iopub.status.idle": "2022-09-24T04:26:36.502408Z",
     "shell.execute_reply": "2022-09-24T04:26:36.501285Z"
    },
    "papermill": {
     "duration": 0.016109,
     "end_time": "2022-09-24T04:26:36.504741",
     "exception": false,
     "start_time": "2022-09-24T04:26:36.488632",
     "status": "completed"
    },
    "tags": []
   },
   "outputs": [
    {
     "name": "stdout",
     "output_type": "stream",
     "text": [
      "gb\n",
      "{'n_estimators': 500}\n"
     ]
    }
   ],
   "source": [
    "print(model_name)\n",
    "print(parameters)"
   ]
  },
  {
   "cell_type": "code",
   "execution_count": 15,
   "id": "92c4fea2",
   "metadata": {
    "execution": {
     "iopub.execute_input": "2022-09-24T04:26:36.519265Z",
     "iopub.status.busy": "2022-09-24T04:26:36.518826Z",
     "iopub.status.idle": "2022-09-24T04:26:36.526591Z",
     "shell.execute_reply": "2022-09-24T04:26:36.525423Z"
    },
    "papermill": {
     "duration": 0.017636,
     "end_time": "2022-09-24T04:26:36.528806",
     "exception": false,
     "start_time": "2022-09-24T04:26:36.511170",
     "status": "completed"
    },
    "tags": []
   },
   "outputs": [],
   "source": [
    "def make_model(model_name,parameters,train,y_train):\n",
    "    if model_name == 'cat':\n",
    "        model = CatBoostRegressor(**parameters)\n",
    "        model.fit(train,y_train)\n",
    "        \n",
    "    if model_name == 'ada':\n",
    "        model = AdaBoostRegressor(**parameters)\n",
    "        model.fit(train,y_train)\n",
    "        \n",
    "    if model_name == 'rf':\n",
    "        model = RandomForestRegressor(**parameters)\n",
    "        model.fit(train,y_train)\n",
    "        \n",
    "    if model_name == 'gb':\n",
    "        model = lgb.LGBMRegressor(**parameters)\n",
    "        model.fit(train,y_train)\n",
    "        \n",
    "    if model_name == 'xgb':\n",
    "        model = XGBRegressor(**parameters)\n",
    "        model.fit(train,y_train)\n",
    "        \n",
    "    return model"
   ]
  },
  {
   "cell_type": "code",
   "execution_count": 16,
   "id": "397b6662",
   "metadata": {
    "execution": {
     "iopub.execute_input": "2022-09-24T04:26:36.543873Z",
     "iopub.status.busy": "2022-09-24T04:26:36.543463Z",
     "iopub.status.idle": "2022-09-24T04:26:38.538358Z",
     "shell.execute_reply": "2022-09-24T04:26:38.537128Z"
    },
    "papermill": {
     "duration": 2.005469,
     "end_time": "2022-09-24T04:26:38.541097",
     "exception": false,
     "start_time": "2022-09-24T04:26:36.535628",
     "status": "completed"
    },
    "tags": []
   },
   "outputs": [],
   "source": [
    "model = make_model(model_name,parameters,train_data,y_train)\n",
    "predictions = model.predict(test_data)"
   ]
  },
  {
   "cell_type": "code",
   "execution_count": 17,
   "id": "c4897ae3",
   "metadata": {
    "execution": {
     "iopub.execute_input": "2022-09-24T04:26:38.557919Z",
     "iopub.status.busy": "2022-09-24T04:26:38.557508Z",
     "iopub.status.idle": "2022-09-24T04:26:38.564017Z",
     "shell.execute_reply": "2022-09-24T04:26:38.562741Z"
    },
    "papermill": {
     "duration": 0.017463,
     "end_time": "2022-09-24T04:26:38.566384",
     "exception": false,
     "start_time": "2022-09-24T04:26:38.548921",
     "status": "completed"
    },
    "tags": []
   },
   "outputs": [],
   "source": [
    "sample_sub['num_sold'] = predictions"
   ]
  },
  {
   "cell_type": "code",
   "execution_count": 18,
   "id": "f1f72f0d",
   "metadata": {
    "execution": {
     "iopub.execute_input": "2022-09-24T04:26:38.581935Z",
     "iopub.status.busy": "2022-09-24T04:26:38.581176Z",
     "iopub.status.idle": "2022-09-24T04:26:38.588335Z",
     "shell.execute_reply": "2022-09-24T04:26:38.587154Z"
    },
    "papermill": {
     "duration": 0.017668,
     "end_time": "2022-09-24T04:26:38.590704",
     "exception": false,
     "start_time": "2022-09-24T04:26:38.573036",
     "status": "completed"
    },
    "tags": []
   },
   "outputs": [
    {
     "data": {
      "text/plain": [
       "(17520,)"
      ]
     },
     "execution_count": 18,
     "metadata": {},
     "output_type": "execute_result"
    }
   ],
   "source": [
    "predictions.shape"
   ]
  },
  {
   "cell_type": "code",
   "execution_count": 19,
   "id": "1b75bd4a",
   "metadata": {
    "execution": {
     "iopub.execute_input": "2022-09-24T04:26:38.606214Z",
     "iopub.status.busy": "2022-09-24T04:26:38.605714Z",
     "iopub.status.idle": "2022-09-24T04:26:38.612557Z",
     "shell.execute_reply": "2022-09-24T04:26:38.611323Z"
    },
    "papermill": {
     "duration": 0.017272,
     "end_time": "2022-09-24T04:26:38.615013",
     "exception": false,
     "start_time": "2022-09-24T04:26:38.597741",
     "status": "completed"
    },
    "tags": []
   },
   "outputs": [
    {
     "data": {
      "text/plain": [
       "(17520, 32)"
      ]
     },
     "execution_count": 19,
     "metadata": {},
     "output_type": "execute_result"
    }
   ],
   "source": [
    "test_data.shape"
   ]
  },
  {
   "cell_type": "code",
   "execution_count": 20,
   "id": "5b40c75e",
   "metadata": {
    "execution": {
     "iopub.execute_input": "2022-09-24T04:26:38.630437Z",
     "iopub.status.busy": "2022-09-24T04:26:38.630019Z",
     "iopub.status.idle": "2022-09-24T04:26:38.636888Z",
     "shell.execute_reply": "2022-09-24T04:26:38.635786Z"
    },
    "papermill": {
     "duration": 0.01741,
     "end_time": "2022-09-24T04:26:38.639272",
     "exception": false,
     "start_time": "2022-09-24T04:26:38.621862",
     "status": "completed"
    },
    "tags": []
   },
   "outputs": [
    {
     "data": {
      "text/plain": [
       "(17520, 2)"
      ]
     },
     "execution_count": 20,
     "metadata": {},
     "output_type": "execute_result"
    }
   ],
   "source": [
    "sample_sub.shape"
   ]
  },
  {
   "cell_type": "code",
   "execution_count": 21,
   "id": "97bf9fff",
   "metadata": {
    "execution": {
     "iopub.execute_input": "2022-09-24T04:26:38.655322Z",
     "iopub.status.busy": "2022-09-24T04:26:38.654592Z",
     "iopub.status.idle": "2022-09-24T04:26:38.704643Z",
     "shell.execute_reply": "2022-09-24T04:26:38.703353Z"
    },
    "papermill": {
     "duration": 0.06139,
     "end_time": "2022-09-24T04:26:38.707695",
     "exception": false,
     "start_time": "2022-09-24T04:26:38.646305",
     "status": "completed"
    },
    "tags": []
   },
   "outputs": [],
   "source": [
    "sample_sub.to_csv('submission.csv',index=False)"
   ]
  }
 ],
 "metadata": {
  "kernelspec": {
   "display_name": "Python 3",
   "language": "python",
   "name": "python3"
  },
  "language_info": {
   "codemirror_mode": {
    "name": "ipython",
    "version": 3
   },
   "file_extension": ".py",
   "mimetype": "text/x-python",
   "name": "python",
   "nbconvert_exporter": "python",
   "pygments_lexer": "ipython3",
   "version": "3.7.12"
  },
  "papermill": {
   "default_parameters": {},
   "duration": 2478.308256,
   "end_time": "2022-09-24T04:26:39.943697",
   "environment_variables": {},
   "exception": null,
   "input_path": "__notebook__.ipynb",
   "output_path": "__notebook__.ipynb",
   "parameters": {},
   "start_time": "2022-09-24T03:45:21.635441",
   "version": "2.3.4"
  }
 },
 "nbformat": 4,
 "nbformat_minor": 5
}
